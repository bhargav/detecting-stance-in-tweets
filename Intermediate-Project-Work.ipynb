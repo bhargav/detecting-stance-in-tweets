{
 "cells": [
  {
   "cell_type": "code",
   "execution_count": 87,
   "metadata": {
    "collapsed": true
   },
   "outputs": [],
   "source": [
    "import numpy as np"
   ]
  },
  {
   "cell_type": "code",
   "execution_count": 88,
   "metadata": {
    "collapsed": false
   },
   "outputs": [
    {
     "name": "stdout",
     "output_type": "stream",
     "text": [
      "Number of items =  2916\n"
     ]
    }
   ],
   "source": [
    "dataset = []\n",
    "for filename in [\"./dataset_raw/semeval2016-task6-trialdata.txt\", \"./dataset_raw/semeval2016-task6-trainingdata.txt\"]:\n",
    "    f = open(filename, 'r')\n",
    "    dataset  = dataset + f.readlines()\n",
    "\n",
    "print \"Number of items = \", len(dataset)"
   ]
  },
  {
   "cell_type": "code",
   "execution_count": 89,
   "metadata": {
    "collapsed": false
   },
   "outputs": [],
   "source": [
    "glove_word_vec_file = \"/Users/bhargav/Downloads/glove.twitter.27B/glove.twitter.27B.25d.txt\"\n",
    "\n",
    "def readGloveData(glove_word_vec_file):\n",
    "    f = open(glove_word_vec_file, 'r')\n",
    "    rawData = f.readlines()\n",
    "    word_vec_dict = {}\n",
    "    for line in rawData:\n",
    "        line = line.strip().split()\n",
    "        tag = line[0]\n",
    "        vec = line[1:]\n",
    "        word_vec_dict[tag] = np.array(vec, dtype=float)\n",
    "            \n",
    "    return word_vec_dict\n",
    "            \n",
    "word_vec_dict = readGloveData(glove_word_vec_file)"
   ]
  },
  {
   "cell_type": "code",
   "execution_count": 90,
   "metadata": {
    "collapsed": false
   },
   "outputs": [],
   "source": [
    "def getWordVector(word, word_vec_dict):\n",
    "    if word in word_vec_dict:\n",
    "        return word_vec_dict[word]\n",
    "    return np.zeros_like(word_vec_dict['hi'])\n",
    "    "
   ]
  },
  {
   "cell_type": "code",
   "execution_count": 111,
   "metadata": {
    "collapsed": false
   },
   "outputs": [],
   "source": [
    "def readTweets(fileName):\n",
    "    file = open(fileName, 'r')\n",
    "    raw_tweets = []\n",
    "    tweets = []\n",
    "    tweetClass = []\n",
    "    line = file.readline()\n",
    "    for line in file:\n",
    "        raw_tweets.append(line.lower().strip().replace(',',' ').split())\n",
    "    for tweet in raw_tweets:       \n",
    "        if tweet[1] != 'feminist':\n",
    "            continue\n",
    "            \n",
    "        tweets.append(tweet[1:len(tweet) - 1])\n",
    "        tweetClass.append(tweet[len(tweet) - 1])\n",
    "    tweets.append(tweetClass)\n",
    "    return tweets\n",
    "\n",
    "def getTweetVectors(tweets):\n",
    "    tweetVectors = []\n",
    "    for tweet in tweets:\n",
    "        #print getSumVectors(tweet, word_vec_dict)\n",
    "        tweetVectors.append(getSumVectors(tweet, word_vec_dict))\n",
    "    return tweetVectors\n",
    "\n",
    "word_vec_dict = readGloveData('./glove.twitter.27B/glove.twitter.27B.25d.txt')\n",
    "tweets = readTweets('./dataset_raw/semeval2016-task6-trainingdata.txt')\n",
    "\n"
   ]
  },
  {
   "cell_type": "code",
   "execution_count": 112,
   "metadata": {
    "collapsed": true
   },
   "outputs": [],
   "source": [
    "def getSumVectors(sentence, word_vec_dict):\n",
    "    numNonZero = 0\n",
    "    vector = np.zeros_like(word_vec_dict['hi'])\n",
    "    for word in sentence:\n",
    "        vec = getWordVector(word, word_vec_dict)\n",
    "        #print word, vec\n",
    "        \n",
    "        vector = vector + vec\n",
    "        if vec.sum() != 0:\n",
    "            numNonZero += 1\n",
    "\n",
    "    if numNonZero:\n",
    "        vector = vector / numNonZero\n",
    "\n",
    "    return vector"
   ]
  },
  {
   "cell_type": "code",
   "execution_count": 113,
   "metadata": {
    "collapsed": false
   },
   "outputs": [
    {
     "name": "stdout",
     "output_type": "stream",
     "text": [
      "['feminist', 'movement', 'always', 'a', 'delight', 'to', 'see', 'chest-drumming', 'alpha', 'males', 'hiss', 'and', 'scuttle', 'backwards', 'up', 'the', 'wall', 'when', 'a', 'feminist', 'enters', 'the', 'room.', '#manly', '#semst']\n",
      "[ -2.37875286e-01   1.77393095e-01  -4.95440952e-02   2.19813429e-01\n",
      "  -9.62951905e-02  -1.27029524e-01   8.26993810e-01  -3.21217724e-01\n",
      "   2.68923571e-01  -2.55428905e-01  -2.05642381e-01   1.83934381e-01\n",
      "  -3.77206286e+00  -4.64933333e-04  -8.93849952e-02   1.57279905e-01\n",
      "   1.27070143e-01  -1.83224343e-01   1.02865857e-01  -8.50095238e-02\n",
      "  -4.60011429e-02   2.93992857e-01   1.41085714e-01  -2.92647905e-01\n",
      "  -1.36500286e-01]\n"
     ]
    }
   ],
   "source": [
    "tweetVectors = getTweetVectors(tweets[0:len(tweets) - 1])\n",
    "print tweets[0]\n",
    "print getSumVectors(tweets[0], word_vec_dict)\n"
   ]
  },
  {
   "cell_type": "code",
   "execution_count": 114,
   "metadata": {
    "collapsed": false
   },
   "outputs": [
    {
     "name": "stdout",
     "output_type": "stream",
     "text": [
      "(664,)\n",
      "(664, 25)\n"
     ]
    }
   ],
   "source": [
    "tweetClasses = set(tweets[-1])\n",
    "\n",
    "mapping = {'favor': 1, 'none': 0, 'against': 1}\n",
    "\n",
    "tweetClasses = np.asarray([mapping[x] for x in tweets[-1]])\n",
    "tweetData = np.asarray(tweetVectors)\n",
    "\n",
    "print tweetClasses.shape\n",
    "print tweetData.shape"
   ]
  },
  {
   "cell_type": "code",
   "execution_count": 115,
   "metadata": {
    "collapsed": false
   },
   "outputs": [
    {
     "name": "stdout",
     "output_type": "stream",
     "text": [
      "(664, 25) 538\n",
      "[ 0.80597015  0.81203008  0.81203008  0.81060606  0.81060606] 0.810248484168\n"
     ]
    }
   ],
   "source": [
    "from sklearn.multiclass import OneVsRestClassifier\n",
    "from sklearn.svm import SVC\n",
    "from sklearn import cross_validation\n",
    "\n",
    "X = tweetData\n",
    "Y = tweetClasses\n",
    "\n",
    "print X.shape, Y.sum()\n",
    "\n",
    "clf = SVC(kernel='rbf', gamma=1.5, random_state=34543)\n",
    "scores = cross_validation.cross_val_score(clf, X, Y, cv=5)\n",
    "print scores, scores.mean()\n"
   ]
  },
  {
   "cell_type": "code",
   "execution_count": null,
   "metadata": {
    "collapsed": true
   },
   "outputs": [],
   "source": []
  }
 ],
 "metadata": {
  "kernelspec": {
   "display_name": "Python 2",
   "language": "python",
   "name": "python2"
  },
  "language_info": {
   "codemirror_mode": {
    "name": "ipython",
    "version": 2
   },
   "file_extension": ".py",
   "mimetype": "text/x-python",
   "name": "python",
   "nbconvert_exporter": "python",
   "pygments_lexer": "ipython2",
   "version": "2.7.10"
  }
 },
 "nbformat": 4,
 "nbformat_minor": 0
}
