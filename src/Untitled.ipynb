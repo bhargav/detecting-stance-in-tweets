{
 "cells": [
  {
   "cell_type": "code",
   "execution_count": 53,
   "metadata": {
    "collapsed": false
   },
   "outputs": [
    {
     "name": "stdout",
     "output_type": "stream",
     "text": [
      "CountVectorizer(analyzer='word', binary=True, decode_error=u'strict',\n",
      "        dtype=<type 'numpy.int64'>, encoding=u'utf-8', input=u'content',\n",
      "        lowercase=True, max_df=140, max_features=None, min_df=2,\n",
      "        ngram_range=(1, 1), preprocessor=None, stop_words=[],\n",
      "        strip_accents=None, token_pattern=u'(?u)\\\\b\\\\w+\\\\b',\n",
      "        tokenizer=None, vocabulary=None)\n",
      "[[1 1]]\n"
     ]
    }
   ],
   "source": [
    "from sklearn.feature_extraction.text import CountVectorizer\n",
    "from nltk.corpus import stopwords\n",
    "\n",
    "stop = stopwords.words('English')\n",
    "\n",
    "\n",
    "cvect = CountVectorizer(stop_words=[], binary=True, min_df=2, max_df=140, analyzer='word', tokenizer=None, token_pattern=u'(?u)\\\\b\\\\w+\\\\b', )\n",
    "print cvect.fit([\"ant d\", \"ant\", \"apply\", \"cc\", 'd'])\n",
    "\n",
    "print cvect.transform([\"ant hello d\"]).toarray()"
   ]
  },
  {
   "cell_type": "code",
   "execution_count": null,
   "metadata": {
    "collapsed": true
   },
   "outputs": [],
   "source": []
  },
  {
   "cell_type": "code",
   "execution_count": null,
   "metadata": {
    "collapsed": true
   },
   "outputs": [],
   "source": []
  }
 ],
 "metadata": {
  "kernelspec": {
   "display_name": "Python 2",
   "language": "python",
   "name": "python2"
  },
  "language_info": {
   "codemirror_mode": {
    "name": "ipython",
    "version": 2
   },
   "file_extension": ".py",
   "mimetype": "text/x-python",
   "name": "python",
   "nbconvert_exporter": "python",
   "pygments_lexer": "ipython2",
   "version": "2.7.11"
  }
 },
 "nbformat": 4,
 "nbformat_minor": 0
}
