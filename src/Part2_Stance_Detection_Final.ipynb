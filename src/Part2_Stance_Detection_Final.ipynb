{
 "cells": [
  {
   "cell_type": "markdown",
   "metadata": {},
   "source": [
    "# Detecting Stance in Tweets"
   ]
  },
  {
   "cell_type": "markdown",
   "metadata": {},
   "source": [
    "**Reading the dataset and pre-processing**"
   ]
  },
  {
   "cell_type": "code",
   "execution_count": 1,
   "metadata": {
    "collapsed": false
   },
   "outputs": [
    {
     "name": "stdout",
     "output_type": "stream",
     "text": [
      "Stances =  ['FAVOR', 'NONE', 'AGAINST']\n",
      "Targets =  ['Atheism', 'Legalization of Abortion', 'Feminist Movement', 'Climate Change is a Real Concern', 'Hillary Clinton']\n"
     ]
    }
   ],
   "source": [
    "from Model import Model as DataModel\n",
    "\n",
    "dataset = []\n",
    "\n",
    "targets_small_hack = ['atheism', 'climate change is a real concern', 'feminist movement', 'legalization of abortion', 'hillary clinton']\n",
    "targets_skip_index = [1, 6, 3, 4, 3]\n",
    "targets_real =  ['Atheism', 'Climate Change is a Real Concern', 'Feminist Movement', 'Legalization of Abortion', 'Hillary Clinton']\n",
    "\n",
    "f = open(\"../final.txt\", 'r')\n",
    "for line in f.readlines():\n",
    "    items = line.strip().split('\\t')\n",
    "    \n",
    "    for t in xrange(5):\n",
    "        if items[0].startswith(targets_small_hack[t]):\n",
    "            model = DataModel(None, targets_real[t], items[0][targets_skip_index[t]:], items[-1])\n",
    "            dataset.append(model)\n",
    "            \n",
    "targets = list(set(map(lambda model:model.target, dataset)))\n",
    "stances = list(set(map(lambda model: model.stance, dataset)))\n",
    "\n",
    "print \"Stances = \", stances\n",
    "print \"Targets = \", targets"
   ]
  },
  {
   "cell_type": "markdown",
   "metadata": {},
   "source": [
    "**Reading the Stanford GloVe Twitter Embeddings learned over Twitter data**"
   ]
  },
  {
   "cell_type": "code",
   "execution_count": 2,
   "metadata": {
    "collapsed": false
   },
   "outputs": [],
   "source": [
    "import numpy as np\n",
    "\n",
    "glove_word_vec_file = \"../glove.twitter.27B/glove.twitter.27B.200d.txt\"\n",
    "\n",
    "def readGloveData(glove_word_vec_file):\n",
    "    f = open(glove_word_vec_file, 'r')\n",
    "    rawData = f.readlines()\n",
    "    word_vec_dict = {}\n",
    "    for line in rawData:\n",
    "        line = line.strip().split()\n",
    "        tag = line[0]\n",
    "        vec = line[1:]\n",
    "        word_vec_dict[tag] = np.array(vec, dtype=float)\n",
    "            \n",
    "    return word_vec_dict\n",
    "            \n",
    "word_vec_dict = readGloveData(glove_word_vec_file)\n",
    "\n",
    "def getWordVector(word):\n",
    "    if word in word_vec_dict:\n",
    "        return word_vec_dict[word]\n",
    "    return np.zeros_like(word_vec_dict['hi'])\n",
    "\n",
    "def getSumVectors(tweetData):\n",
    "    numNonZero = 0\n",
    "    vector = np.zeros_like(word_vec_dict['hi'])\n",
    "    \n",
    "    for word in tweetData:\n",
    "        vec = getWordVector(word)\n",
    "        vector = vector + vec\n",
    "        if vec.sum() != 0:\n",
    "            numNonZero += 1\n",
    "\n",
    "    if numNonZero:\n",
    "        vector = vector / numNonZero\n",
    "\n",
    "    return vector"
   ]
  },
  {
   "cell_type": "markdown",
   "metadata": {},
   "source": [
    "**Preprocess tweets according to various heuristics**"
   ]
  },
  {
   "cell_type": "code",
   "execution_count": 3,
   "metadata": {
    "collapsed": false
   },
   "outputs": [],
   "source": [
    "from sklearn.preprocessing import LabelEncoder\n",
    "from nltk.tokenize import TweetTokenizer\n",
    "from nltk.corpus import stopwords\n",
    "from itertools import chain, imap\n",
    "\n",
    "tknzr = TweetTokenizer(strip_handles=True, preserve_case=False)\n",
    "stopwords = stopwords.words(\"English\")\n",
    "stopwords.extend(['#', ',', '+'])\n",
    "\n",
    "def processHashTags(hashtag):\n",
    "    _, _, htWord = hashtag.partition('#')\n",
    "    return [htWord]\n",
    "\n",
    "def transformTweetData(tweet):\n",
    "    content = unicode(tweet.tweet_content, errors='ignore')\n",
    "    words = content.strip().split()\n",
    "    \n",
    "    extra_features = []\n",
    "    for word in words:\n",
    "        if word.startswith('#'):\n",
    "            extra_features.extend(processHashTags(word))\n",
    "    \n",
    "    content = \" \".join(words + extra_features)\n",
    "    tokens = tknzr.tokenize(content)\n",
    "    tokens = [t for t in tokens if t not in stopwords]\n",
    "    \n",
    "    return tokens"
   ]
  },
  {
   "cell_type": "code",
   "execution_count": 19,
   "metadata": {
    "collapsed": false
   },
   "outputs": [
    {
     "name": "stdout",
     "output_type": "stream",
     "text": [
      "The autoreload extension is already loaded. To reload it, use:\n",
      "  %reload_ext autoreload\n",
      "Target =  Atheism\n",
      "(396, 602) (396,)\n",
      "0.777777777778\n",
      "0.52688172043\n",
      "[[259  45]\n",
      " [ 43  49]]\n",
      "Target =  Legalization of Abortion\n",
      "(476, 602) (476,)\n",
      "0.720588235294\n",
      "0.494296577947\n",
      "[[278  77]\n",
      " [ 56  65]]\n",
      "Target =  Feminist Movement\n",
      "(538, 602) (538,)\n",
      "0.620817843866\n",
      "0.529953917051\n",
      "[[219 109]\n",
      " [ 95 115]]\n",
      "Target =  Climate Change is a Real Concern\n",
      "(227, 602) (227,)\n",
      "0.916299559471\n",
      "0.955916473318\n",
      "[[  2  13]\n",
      " [  6 206]]\n",
      "Target =  Hillary Clinton\n",
      "(511, 602) (511,)\n",
      "0.686888454012\n",
      "0.416058394161\n",
      "[[294  99]\n",
      " [ 61  57]]\n"
     ]
    }
   ],
   "source": [
    "%load_ext autoreload\n",
    "%autoreload 2\n",
    "\n",
    "from sklearn.svm import SVC\n",
    "from sklearn import cross_validation\n",
    "from sklearn import metrics\n",
    "from sklearn.feature_extraction.text import TfidfVectorizer\n",
    "from sklearn.preprocessing import MultiLabelBinarizer\n",
    "from sklearn.externals import joblib\n",
    "\n",
    "from itertools import chain\n",
    "from sentimentAnalysis import *\n",
    "\n",
    "for target in targets:\n",
    "    print \"Target = \", target\n",
    "    currentDataset = [d for d in dataset if d.target == target and d.stance != \"NONE\"]\n",
    "\n",
    "    part_2_le = LabelEncoder()\n",
    "    part_2_le.fit([\"FAVOR\", \"AGAINST\"])\n",
    "    \n",
    "    data = list(map(transformTweetData, currentDataset))\n",
    "\n",
    "    classes = part_2_le.transform([model.stance for model in currentDataset])\n",
    "    \n",
    "    feature_array = np.asarray(getFeatures(data, word_vec_dict))\n",
    "    class_array = np.asarray(classes)\n",
    "\n",
    "    print feature_array.shape, class_array.shape\n",
    "\n",
    "    clf = SVC(kernel='linear')\n",
    "    predict = cross_validation.cross_val_predict(clf, feature_array, class_array)\n",
    "    \n",
    "    print metrics.accuracy_score(class_array, predict)\n",
    "    print metrics.f1_score(class_array, predict)\n",
    "    print metrics.confusion_matrix(class_array, predict)"
   ]
  },
  {
   "cell_type": "code",
   "execution_count": null,
   "metadata": {
    "collapsed": true
   },
   "outputs": [],
   "source": []
  }
 ],
 "metadata": {
  "kernelspec": {
   "display_name": "Python 2",
   "language": "python",
   "name": "python2"
  },
  "language_info": {
   "codemirror_mode": {
    "name": "ipython",
    "version": 2
   },
   "file_extension": ".py",
   "mimetype": "text/x-python",
   "name": "python",
   "nbconvert_exporter": "python",
   "pygments_lexer": "ipython2",
   "version": "2.7.11"
  }
 },
 "nbformat": 4,
 "nbformat_minor": 0
}
