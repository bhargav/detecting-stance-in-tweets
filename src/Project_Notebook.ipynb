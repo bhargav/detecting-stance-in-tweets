{
 "cells": [
  {
   "cell_type": "markdown",
   "metadata": {},
   "source": [
    "# Detecting Stance in Tweets"
   ]
  },
  {
   "cell_type": "markdown",
   "metadata": {},
   "source": [
    "**Reading the dataset and pre-processing**"
   ]
  },
  {
   "cell_type": "code",
   "execution_count": 1,
   "metadata": {
    "collapsed": false
   },
   "outputs": [
    {
     "name": "stdout",
     "output_type": "stream",
     "text": [
      "Stances =  ['FAVOR', 'NONE', 'AGAINST']\n",
      "Targets =  ['Atheism', 'Climate Change is a Real Concern', 'Feminist Movement', 'Legalization of Abortion', 'Hillary Clinton']\n"
     ]
    }
   ],
   "source": [
    "from Model import Model as DataModel\n",
    "\n",
    "dataset = []\n",
    "for filename in [\"../dataset_raw/semeval2016-task6-trialdata.txt\", \"../dataset_raw/semeval2016-task6-trainingdata.txt\"]:\n",
    "    f = open(filename, 'r')\n",
    "    f.readline() # Skip the first line which contains the title\n",
    "\n",
    "    for line in f.readlines():\n",
    "        items = line.strip().split('\\t')\n",
    "        t = DataModel(items[0] , items[1], items[2], items[3])\n",
    "        dataset.append(t)\n",
    "\n",
    "targets = list(set(map(lambda model:model.target, dataset)))\n",
    "stances = list(set(map(lambda model: model.stance, dataset)))\n",
    "\n",
    "print \"Stances = \", stances\n",
    "print \"Targets = \", targets"
   ]
  },
  {
   "cell_type": "markdown",
   "metadata": {},
   "source": [
    "**Reading the Stanford GloVe Twitter Embeddings learned over Twitter data**"
   ]
  },
  {
   "cell_type": "code",
   "execution_count": 2,
   "metadata": {
    "collapsed": true
   },
   "outputs": [],
   "source": [
    "import numpy as np\n",
    "\n",
    "glove_word_vec_file = \"../glove.twitter.27B/glove.twitter.27B.200d.txt\"\n",
    "\n",
    "def readGloveData(glove_word_vec_file):\n",
    "    f = open(glove_word_vec_file, 'r')\n",
    "    rawData = f.readlines()\n",
    "    word_vec_dict = {}\n",
    "    for line in rawData:\n",
    "        line = line.strip().split()\n",
    "        tag = line[0]\n",
    "        vec = line[1:]\n",
    "        word_vec_dict[tag] = np.array(vec, dtype=float)\n",
    "            \n",
    "    return word_vec_dict\n",
    "            \n",
    "word_vec_dict = readGloveData(glove_word_vec_file)\n",
    "\n",
    "def getWordVector(word):\n",
    "    if word in word_vec_dict:\n",
    "        return word_vec_dict[word]\n",
    "    return np.zeros_like(word_vec_dict['hi'])\n",
    "\n",
    "def getSumVectors(tweetData):\n",
    "    numNonZero = 0\n",
    "    vector = np.zeros_like(word_vec_dict['hi'])\n",
    "    \n",
    "    for word in tweetData:\n",
    "        vec = getWordVector(word)\n",
    "        vector = vector + vec\n",
    "        if vec.sum() != 0:\n",
    "            numNonZero += 1\n",
    "\n",
    "    if numNonZero:\n",
    "        vector = vector / numNonZero\n",
    "\n",
    "    return vector"
   ]
  },
  {
   "cell_type": "markdown",
   "metadata": {},
   "source": [
    "**Preprocess tweets according to various heuristics**"
   ]
  },
  {
   "cell_type": "code",
   "execution_count": 93,
   "metadata": {
    "collapsed": false
   },
   "outputs": [
    {
     "name": "stdout",
     "output_type": "stream",
     "text": [
      "Target =  Legalization of Abortion\n",
      "Stance =  NONE\n",
      "set([0, 1])\n"
     ]
    }
   ],
   "source": [
    "from sklearn.preprocessing import LabelEncoder\n",
    "from nltk.tokenize import TweetTokenizer\n",
    "from nltk.corpus import stopwords\n",
    "from itertools import chain, imap\n",
    "\n",
    "target = targets[3]\n",
    "print \"Target = \", target\n",
    "currentDataset = [d for d in dataset if d.target == target or d.stance == \"NONE\"]\n",
    "\n",
    "mainStance = stances[1]\n",
    "print \"Stance = \", mainStance\n",
    "\n",
    "le = LabelEncoder()\n",
    "target = le.fit([model.stance == mainStance for model in currentDataset])\n",
    "\n",
    "tknzr = TweetTokenizer(strip_handles=True, preserve_case=False)\n",
    "stopwords = stopwords.words(\"English\")\n",
    "stopwords.extend(['#', ','])\n",
    "\n",
    "def processHashTags(hashtag):\n",
    "    _, _, htWord = hashtag.partition('#')\n",
    "    return [htWord]\n",
    "\n",
    "def transformTweetData(tweet):\n",
    "    content = unicode(tweet.tweet_content, errors='ignore')\n",
    "    words = content.strip().split()\n",
    "    \n",
    "    extra_features = []\n",
    "    for word in words:\n",
    "        if word.startswith('#'):\n",
    "            extra_features.extend(processHashTags(word))\n",
    "    \n",
    "    content = \" \".join(words + extra_features)\n",
    "    tokens = tknzr.tokenize(content)\n",
    "    tokens = [t for t in tokens if t not in stopwords]\n",
    "    \n",
    "    return tokens\n",
    "    \n",
    "data = list(map(transformTweetData, currentDataset))\n",
    "classes = le.transform([model.stance == mainStance for model in currentDataset])\n",
    "print set(classes)"
   ]
  },
  {
   "cell_type": "code",
   "execution_count": 94,
   "metadata": {
    "collapsed": false
   },
   "outputs": [
    {
     "name": "stdout",
     "output_type": "stream",
     "text": [
      "(1242, 200) (1242,)\n",
      "Stance =  NONE [False  True]\n",
      "Fold / 1 , Training Set / (869,)   536 , Test Set / (373,)   230\n",
      "[[121  22]\n",
      " [ 30 200]] 0.860589812332 0.884955752212\n",
      "Fold / 2 , Training Set / (869,)   536 , Test Set / (373,)   230\n",
      "[[117  26]\n",
      " [ 25 205]] 0.86327077748 0.889370932755\n",
      "Fold / 3 , Training Set / (869,)   536 , Test Set / (373,)   230\n",
      "[[113  30]\n",
      " [ 29 201]] 0.8418230563 0.872017353579\n",
      "Fold / 4 , Training Set / (869,)   536 , Test Set / (373,)   230\n",
      "[[116  27]\n",
      " [ 36 194]] 0.83109919571 0.860310421286\n",
      "Fold / 5 , Training Set / (869,)   536 , Test Set / (373,)   230\n",
      "[[105  38]\n",
      " [ 23 207]] 0.836461126005 0.871578947368\n",
      "Fold / 6 , Training Set / (869,)   536 , Test Set / (373,)   230\n",
      "[[116  27]\n",
      " [ 27 203]] 0.855227882038 0.882608695652\n",
      "Fold / 7 , Training Set / (869,)   536 , Test Set / (373,)   230\n",
      "[[113  30]\n",
      " [ 25 205]] 0.85254691689 0.881720430108\n"
     ]
    }
   ],
   "source": [
    "from sklearn.svm import SVC\n",
    "from sklearn import cross_validation\n",
    "from sklearn import metrics\n",
    "from sklearn.feature_extraction.text import TfidfVectorizer\n",
    "from sklearn.preprocessing import MultiLabelBinarizer\n",
    "\n",
    "from itertools import chain\n",
    "\n",
    "#featureEncoder = MultiLabelBinarizer(classes = set(chain.from_iterable(data)))\n",
    "#feature_array = np.asarray([reduce(sum, map(featureEncoder.transform, d)) for d in data])\n",
    "feature_array = np.asarray([getSumVectors(d) for d in data])\n",
    "\n",
    "#vectorizer = TfidfVectorizer(sublinear_tf=True, max_df=0.5,)\n",
    "#feature_array = vectorizer.fit_transform([\" \".join(d) for d in data])\n",
    "    \n",
    "class_array = np.asarray(classes)\n",
    "\n",
    "print feature_array.shape, class_array.shape\n",
    "print \"Stance = \", mainStance, le.classes_\n",
    "\n",
    "clf = SVC(kernel='linear')\n",
    "skf = cross_validation.StratifiedShuffleSplit(class_array, n_iter=7, test_size=0.3)\n",
    "\n",
    "idx = 1\n",
    "for train, test in skf:\n",
    "    X_train = feature_array[np.array(train)]\n",
    "    Y_train = class_array[np.array(train)] \n",
    "    \n",
    "    X_test = feature_array[np.array(test)]\n",
    "    Y_test = class_array[np.array(test)]\n",
    "    \n",
    "    clf.fit(X_train, Y_train)\n",
    "    predict = clf.predict(X_test)\n",
    "    \n",
    "    print \"Fold /\", idx, \", Training Set /\", Y_train.shape, \" \", np.sum(Y_train), \", Test Set /\", Y_test.shape, \" \", np.sum(Y_test)\n",
    "    print metrics.confusion_matrix(Y_test, predict), metrics.accuracy_score(Y_test, predict), metrics.f1_score(Y_test, predict)\n",
    "    idx += 1\n"
   ]
  },
  {
   "cell_type": "code",
   "execution_count": 118,
   "metadata": {
    "collapsed": false
   },
   "outputs": [
    {
     "name": "stdout",
     "output_type": "stream",
     "text": [
      "9.04856098309\n"
     ]
    }
   ],
   "source": [
    "print np.dot(clf.support_vectors_[-5], getWordVector(\"climate\"))"
   ]
  },
  {
   "cell_type": "code",
   "execution_count": 69,
   "metadata": {
    "collapsed": false
   },
   "outputs": [
    {
     "data": {
      "text/plain": [
       "(239, 200)"
      ]
     },
     "execution_count": 69,
     "metadata": {},
     "output_type": "execute_result"
    }
   ],
   "source": []
  },
  {
   "cell_type": "code",
   "execution_count": 113,
   "metadata": {
    "collapsed": false
   },
   "outputs": [
    {
     "name": "stdout",
     "output_type": "stream",
     "text": [
      "[ 1.00033653]\n"
     ]
    }
   ],
   "source": [
    "print clf.decision_function([clf.support_vectors_[-1]])"
   ]
  },
  {
   "cell_type": "code",
   "execution_count": null,
   "metadata": {
    "collapsed": true
   },
   "outputs": [],
   "source": []
  }
 ],
 "metadata": {
  "kernelspec": {
   "display_name": "Python 2",
   "language": "python",
   "name": "python2"
  },
  "language_info": {
   "codemirror_mode": {
    "name": "ipython",
    "version": 2
   },
   "file_extension": ".py",
   "mimetype": "text/x-python",
   "name": "python",
   "nbconvert_exporter": "python",
   "pygments_lexer": "ipython2",
   "version": "2.7.11"
  }
 },
 "nbformat": 4,
 "nbformat_minor": 0
}
