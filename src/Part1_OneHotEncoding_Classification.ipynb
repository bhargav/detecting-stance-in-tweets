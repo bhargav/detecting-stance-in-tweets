{
 "cells": [
  {
   "cell_type": "markdown",
   "metadata": {},
   "source": [
    "# Detecting Stance in Tweets"
   ]
  },
  {
   "cell_type": "markdown",
   "metadata": {},
   "source": [
    "**Reading the dataset and pre-processing**"
   ]
  },
  {
   "cell_type": "code",
   "execution_count": null,
   "metadata": {
    "collapsed": false
   },
   "outputs": [],
   "source": [
    "from Model import Model as DataModel\n",
    "\n",
    "dataset = []\n",
    "# for filename in [\"../dataset_raw/semeval2016-task6-trialdata.txt\", \"../dataset_raw/semeval2016-task6-trainingdata.txt\"]:\n",
    "#     f = open(filename, 'r')\n",
    "#     f.readline() # Skip the first line which contains the title\n",
    "\n",
    "#     for line in f.readlines():\n",
    "#         items = line.strip().split('\\t')\n",
    "#         t = DataModel(items[0] , items[1], items[2], items[3])\n",
    "#         dataset.append(t)\n",
    "\n",
    "targets_small_hack = ['atheism', 'climate change is a real concern', 'feminist movement', 'legalization of abortion', 'hillary clinton']\n",
    "targets_skip_index = [1, 6, 3, 4, 3]\n",
    "targets_real =  ['Atheism', 'Climate Change is a Real Concern', 'Feminist Movement', 'Legalization of Abortion', 'Hillary Clinton']\n",
    "\n",
    "f = open(\"../final.txt\", 'r')\n",
    "for line in f.readlines():\n",
    "    items = line.strip().split('\\t')\n",
    "    \n",
    "    for t in xrange(5):\n",
    "        if items[0].startswith(targets_small_hack[t]):\n",
    "            model = DataModel(None, targets_real[t], items[0][targets_skip_index[t]:], items[-1])\n",
    "            dataset.append(model)\n",
    "            \n",
    "targets = list(set(map(lambda model:model.target, dataset)))\n",
    "stances = list(set(map(lambda model: model.stance, dataset)))\n",
    "\n",
    "print \"Stances = \", stances\n",
    "print \"Targets = \", targets"
   ]
  },
  {
   "cell_type": "markdown",
   "metadata": {},
   "source": [
    "**Preprocess tweets according to various heuristics**"
   ]
  },
  {
   "cell_type": "code",
   "execution_count": null,
   "metadata": {
    "collapsed": false
   },
   "outputs": [],
   "source": [
    "from sklearn.preprocessing import LabelEncoder\n",
    "from nltk.tokenize import TweetTokenizer\n",
    "from nltk.corpus import stopwords\n",
    "from itertools import chain, imap\n",
    "\n",
    "tknzr = TweetTokenizer(strip_handles=True, preserve_case=False)\n",
    "stopwords = stopwords.words(\"English\")\n",
    "stopwords.extend(['#', ',', '+'])\n",
    "\n",
    "def processHashTags(hashtag):\n",
    "    _, _, htWord = hashtag.partition('#')\n",
    "    return [htWord]\n",
    "\n",
    "def transformTweetData(tweet):\n",
    "    content = unicode(tweet.tweet_content, errors='ignore')\n",
    "    words = content.strip().split()\n",
    "    \n",
    "    extra_features = []\n",
    "    for word in words:\n",
    "        if word.startswith('#'):\n",
    "            extra_features.extend(processHashTags(word))\n",
    "    \n",
    "    content = \" \".join(words + extra_features)\n",
    "    tokens = tknzr.tokenize(content)\n",
    "    tokens = [t for t in tokens if t not in stopwords]\n",
    "    \n",
    "    return tokens"
   ]
  },
  {
   "cell_type": "code",
   "execution_count": null,
   "metadata": {
    "collapsed": false
   },
   "outputs": [],
   "source": [
    "from sklearn.svm import SVC\n",
    "from sklearn import cross_validation\n",
    "from sklearn import metrics\n",
    "from sklearn.feature_extraction.text import CountVectorizer\n",
    "from sklearn.externals import joblib\n",
    "\n",
    "import numpy as np\n",
    "from itertools import chain\n",
    "\n",
    "for target in targets:\n",
    "    print \"Target = \", target\n",
    "    currentDataset = [d for d in dataset if d.target == target or d.stance == \"NONE\"]\n",
    "\n",
    "    le = LabelEncoder()\n",
    "    mapping = {\"NONE\": \"NONE\", \"FAVOR\": \"RELEVANT\", \"AGAINST\": \"RELEVANT\"}\n",
    "    le.fit([mapping[model.stance] for model in currentDataset])\n",
    "\n",
    "    data = list(map(transformTweetData, currentDataset))\n",
    "    classes = le.transform([mapping[model.stance] for model in currentDataset])\n",
    "    print set(classes)\n",
    "\n",
    "    # Stopwords are already cleaned from the corpus\n",
    "    cvect = CountVectorizer(stop_words=None, binary=True, min_df=3, \n",
    "                            max_df=9000, analyzer='word', \n",
    "                            tokenizer=None)\n",
    "    \n",
    "    feature_array = cvect.fit_transform([\" \".join(d) for d in data]).toarray()\n",
    "    \n",
    "    class_array = np.asarray(classes)\n",
    "\n",
    "    print feature_array.shape, class_array.shape\n",
    "    print le.classes_\n",
    "\n",
    "    skf = cross_validation.StratifiedShuffleSplit(class_array, n_iter=5, test_size=0.3)\n",
    "\n",
    "    idx = 0\n",
    "    average_accuracy = np.zeros(5)\n",
    "    average_f1 = np.zeros(5)\n",
    "    \n",
    "    for train, test in skf:\n",
    "        clf = SVC(kernel='linear')\n",
    "        X_train = feature_array[np.array(train)]\n",
    "        Y_train = class_array[np.array(train)] \n",
    "    \n",
    "        X_test = feature_array[np.array(test)]\n",
    "        Y_test = class_array[np.array(test)]\n",
    "    \n",
    "        clf.fit(X_train, Y_train)\n",
    "        predict = clf.predict(X_test)\n",
    "    \n",
    "        print \"Fold /\", idx + 1, \", Training Set /\", Y_train.shape, \" \", np.sum(Y_train), \", Test Set /\", Y_test.shape, \" \", np.sum(Y_test)\n",
    "        print metrics.confusion_matrix(Y_test, predict), metrics.accuracy_score(Y_test, predict), metrics.f1_score(Y_test, predict)\n",
    "        \n",
    "        average_accuracy[idx] = metrics.accuracy_score(Y_test, predict)\n",
    "        average_f1[idx] = metrics.f1_score(Y_test, predict)\n",
    "        \n",
    "        idx += 1\n",
    "    \n",
    "    print \"Average Accuracy =\", np.mean(average_accuracy)\n",
    "    print \"Average F-1 =\", np.mean(average_f1)\n",
    "    target_short = target.split()[0]\n",
    "    joblib.dump(le, \"Part1_OneHot_Dump/Part1_OneHotLabelEncoder_Target_\" + target_short + \".pkl\")\n",
    "    joblib.dump(clf, \"Part1_OneHot_Dump/Part1_OneHot_Target_\" + target_short + \".pkl\")\n",
    "    joblib.dump(cvect, \"Part1_OneHot_Dump/Part1_OneHotVectorizer_Target_\" + target_short + \".pkl\")"
   ]
  },
  {
   "cell_type": "code",
   "execution_count": null,
   "metadata": {
    "collapsed": true
   },
   "outputs": [],
   "source": []
  }
 ],
 "metadata": {
  "kernelspec": {
   "display_name": "Python 2",
   "language": "python",
   "name": "python2"
  },
  "language_info": {
   "codemirror_mode": {
    "name": "ipython",
    "version": 2
   },
   "file_extension": ".py",
   "mimetype": "text/x-python",
   "name": "python",
   "nbconvert_exporter": "python",
   "pygments_lexer": "ipython2",
   "version": "2.7.11"
  }
 },
 "nbformat": 4,
 "nbformat_minor": 0
}
