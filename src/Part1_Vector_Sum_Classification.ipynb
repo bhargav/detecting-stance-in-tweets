{
 "cells": [
  {
   "cell_type": "markdown",
   "metadata": {},
   "source": [
    "# Detecting Stance in Tweets"
   ]
  },
  {
   "cell_type": "markdown",
   "metadata": {},
   "source": [
    "**Reading the dataset and pre-processing**"
   ]
  },
  {
   "cell_type": "code",
   "execution_count": 3,
   "metadata": {
    "collapsed": false
   },
   "outputs": [
    {
     "name": "stdout",
     "output_type": "stream",
     "text": [
      "Stances =  ['FAVOR', 'NONE', 'AGAINST']\n",
      "Targets =  ['Atheism', 'Legalization of Abortion', 'Feminist Movement', 'Climate Change is a Real Concern', 'Hillary Clinton']\n"
     ]
    }
   ],
   "source": [
    "from Model import Model as DataModel\n",
    "\n",
    "dataset = []\n",
    "# for filename in [\"../dataset_raw/semeval2016-task6-trialdata.txt\", \"../dataset_raw/semeval2016-task6-trainingdata.txt\"]:\n",
    "#     f = open(filename, 'r')\n",
    "#     f.readline() # Skip the first line which contains the title\n",
    "\n",
    "#     for line in f.readlines():\n",
    "#         items = line.strip().split('\\t')\n",
    "#         t = DataModel(items[0] , items[1], items[2], items[3])\n",
    "#         dataset.append(t)\n",
    "\n",
    "targets_small_hack = ['atheism', 'climate change is a real concern', 'feminist movement', 'legalization of abortion', 'hillary clinton']\n",
    "targets_skip_index = [1, 6, 3, 4, 3]\n",
    "targets_real =  ['Atheism', 'Climate Change is a Real Concern', 'Feminist Movement', 'Legalization of Abortion', 'Hillary Clinton']\n",
    "\n",
    "f = open(\"../final.txt\", 'r')\n",
    "for line in f.readlines():\n",
    "    items = line.strip().split('\\t')\n",
    "    \n",
    "    for t in xrange(5):\n",
    "        if items[0].startswith(targets_small_hack[t]):\n",
    "            model = DataModel(None, targets_real[t], items[0][targets_skip_index[t]:], items[-1])\n",
    "            dataset.append(model)\n",
    "            \n",
    "targets = list(set(map(lambda model:model.target, dataset)))\n",
    "stances = list(set(map(lambda model: model.stance, dataset)))\n",
    "\n",
    "print \"Stances = \", stances\n",
    "print \"Targets = \", targets"
   ]
  },
  {
   "cell_type": "markdown",
   "metadata": {},
   "source": [
    "**Reading the Stanford GloVe Twitter Embeddings learned over Twitter data**"
   ]
  },
  {
   "cell_type": "code",
   "execution_count": 4,
   "metadata": {
    "collapsed": true
   },
   "outputs": [],
   "source": [
    "import numpy as np\n",
    "\n",
    "glove_word_vec_file = \"../glove.twitter.27B/glove.twitter.27B.200d.txt\"\n",
    "\n",
    "def readGloveData(glove_word_vec_file):\n",
    "    f = open(glove_word_vec_file, 'r')\n",
    "    rawData = f.readlines()\n",
    "    word_vec_dict = {}\n",
    "    for line in rawData:\n",
    "        line = line.strip().split()\n",
    "        tag = line[0]\n",
    "        vec = line[1:]\n",
    "        word_vec_dict[tag] = np.array(vec, dtype=float)\n",
    "            \n",
    "    return word_vec_dict\n",
    "            \n",
    "word_vec_dict = readGloveData(glove_word_vec_file)\n",
    "\n",
    "def getWordVector(word):\n",
    "    if word in word_vec_dict:\n",
    "        return word_vec_dict[word]\n",
    "    return np.zeros_like(word_vec_dict['hi'])\n",
    "\n",
    "def getSumVectors(tweetData):\n",
    "    numNonZero = 0\n",
    "    vector = np.zeros_like(word_vec_dict['hi'])\n",
    "    \n",
    "    for word in tweetData:\n",
    "        vec = getWordVector(word)\n",
    "        vector = vector + vec\n",
    "        if vec.sum() != 0:\n",
    "            numNonZero += 1\n",
    "\n",
    "    if numNonZero:\n",
    "        vector = vector / numNonZero\n",
    "\n",
    "    return vector"
   ]
  },
  {
   "cell_type": "markdown",
   "metadata": {},
   "source": [
    "**Preprocess tweets according to various heuristics**"
   ]
  },
  {
   "cell_type": "code",
   "execution_count": 6,
   "metadata": {
    "collapsed": false
   },
   "outputs": [],
   "source": [
    "from sklearn.preprocessing import LabelEncoder\n",
    "from nltk.tokenize import TweetTokenizer\n",
    "from nltk.corpus import stopwords\n",
    "from itertools import chain, imap\n",
    "\n",
    "tknzr = TweetTokenizer(strip_handles=True, preserve_case=False)\n",
    "stopwords = stopwords.words(\"English\")\n",
    "stopwords.extend(['#', ',', '+'])\n",
    "\n",
    "def processHashTags(hashtag):\n",
    "    _, _, htWord = hashtag.partition('#')\n",
    "    return [htWord]\n",
    "\n",
    "def transformTweetData(tweet):\n",
    "    content = unicode(tweet.tweet_content, errors='ignore')\n",
    "    words = content.strip().split()\n",
    "    \n",
    "    extra_features = []\n",
    "    for word in words:\n",
    "        if word.startswith('#'):\n",
    "            extra_features.extend(processHashTags(word))\n",
    "    \n",
    "    content = \" \".join(words + extra_features)\n",
    "    tokens = tknzr.tokenize(content)\n",
    "    tokens = [t for t in tokens if t not in stopwords]\n",
    "    \n",
    "    return tokens"
   ]
  },
  {
   "cell_type": "code",
   "execution_count": 15,
   "metadata": {
    "collapsed": false
   },
   "outputs": [
    {
     "name": "stdout",
     "output_type": "stream",
     "text": [
      "Target =  Atheism\n",
      "Stance =  NONE\n",
      "set([0, 1])\n",
      "(1162, 200) (1162,)\n",
      "Stance =  NONE [False  True]\n",
      "Fold / 1 , Training Set / (813,)   536 , Test Set / (349,)   230\n",
      "[[104  15]\n",
      " [  8 222]] 0.934097421203 0.950749464668\n",
      "Fold / 2 , Training Set / (813,)   536 , Test Set / (349,)   230\n",
      "[[115   4]\n",
      " [ 17 213]] 0.939828080229 0.953020134228\n",
      "Fold / 3 , Training Set / (813,)   536 , Test Set / (349,)   230\n",
      "[[107  12]\n",
      " [ 19 211]] 0.9111747851 0.931567328918\n",
      "Fold / 4 , Training Set / (813,)   536 , Test Set / (349,)   230\n",
      "[[111   8]\n",
      " [ 23 207]] 0.9111747851 0.930337078652\n",
      "Fold / 5 , Training Set / (813,)   536 , Test Set / (349,)   230\n",
      "[[108  11]\n",
      " [ 15 215]] 0.925501432665 0.94298245614\n",
      "Average Accuracy = 0.92435530086\n",
      "Average F-1 = 0.941731292521\n"
     ]
    },
    {
     "ename": "AttributeError",
     "evalue": "'module' object has no attribute 'dumps'",
     "output_type": "error",
     "traceback": [
      "\u001b[0;31m---------------------------------------------------------------------------\u001b[0m",
      "\u001b[0;31mAttributeError\u001b[0m                            Traceback (most recent call last)",
      "\u001b[0;32m<ipython-input-15-0dc89f925e7c>\u001b[0m in \u001b[0;36m<module>\u001b[0;34m()\u001b[0m\n\u001b[1;32m     58\u001b[0m     \u001b[0;32mprint\u001b[0m \u001b[0;34m\"Average F-1 =\"\u001b[0m\u001b[0;34m,\u001b[0m \u001b[0mnp\u001b[0m\u001b[0;34m.\u001b[0m\u001b[0mmean\u001b[0m\u001b[0;34m(\u001b[0m\u001b[0maverage_f1\u001b[0m\u001b[0;34m)\u001b[0m\u001b[0;34m\u001b[0m\u001b[0m\n\u001b[1;32m     59\u001b[0m     \u001b[0mtarget_short\u001b[0m \u001b[0;34m=\u001b[0m \u001b[0mtarget\u001b[0m\u001b[0;34m.\u001b[0m\u001b[0msplit\u001b[0m\u001b[0;34m(\u001b[0m\u001b[0;34m)\u001b[0m\u001b[0;34m[\u001b[0m\u001b[0;36m0\u001b[0m\u001b[0;34m]\u001b[0m\u001b[0;34m\u001b[0m\u001b[0m\n\u001b[0;32m---> 60\u001b[0;31m     \u001b[0mjoblib\u001b[0m\u001b[0;34m.\u001b[0m\u001b[0mdumps\u001b[0m\u001b[0;34m(\u001b[0m\u001b[0mclf\u001b[0m\u001b[0;34m,\u001b[0m \u001b[0;34m\"Part1_VectorSum_Target_\"\u001b[0m \u001b[0;34m+\u001b[0m \u001b[0mtarget_short\u001b[0m \u001b[0;34m+\u001b[0m \u001b[0;34m\".pkl\"\u001b[0m\u001b[0;34m)\u001b[0m\u001b[0;34m\u001b[0m\u001b[0m\n\u001b[0m",
      "\u001b[0;31mAttributeError\u001b[0m: 'module' object has no attribute 'dumps'"
     ]
    }
   ],
   "source": [
    "from sklearn.svm import SVC\n",
    "from sklearn import cross_validation\n",
    "from sklearn import metrics\n",
    "from sklearn.feature_extraction.text import TfidfVectorizer\n",
    "from sklearn.preprocessing import MultiLabelBinarizer\n",
    "from sklearn.externals import joblib\n",
    "\n",
    "from itertools import chain\n",
    "\n",
    "for target in targets:\n",
    "    print \"Target = \", target\n",
    "    currentDataset = [d for d in dataset if d.target == target or d.stance == \"NONE\"]\n",
    "\n",
    "    le = LabelEncoder()\n",
    "    mapping = {\"NONE\": \"NONE\", \"FAVOR\": \"RELEVANT\", \"AGAINST\": \"RELEVANT\"}\n",
    "    le.fit([mapping[model.stance] for model in currentDataset])\n",
    "\n",
    "    data = list(map(transformTweetData, currentDataset))\n",
    "    classes = le.transform([mapping[model.stance] for model in currentDataset])\n",
    "    print set(classes)\n",
    "\n",
    "    feature_array = np.asarray([getSumVectors(d) for d in data])\n",
    "    \n",
    "    class_array = np.asarray(classes)\n",
    "\n",
    "    print feature_array.shape, class_array.shape\n",
    "    print le.classes_\n",
    "\n",
    "    skf = cross_validation.StratifiedShuffleSplit(class_array, n_iter=5, test_size=0.3)\n",
    "\n",
    "    idx = 0\n",
    "    average_accuracy = np.zeros(5)\n",
    "    average_f1 = np.zeros(5)\n",
    "    \n",
    "    for train, test in skf:\n",
    "        clf = SVC(kernel='linear')\n",
    "        X_train = feature_array[np.array(train)]\n",
    "        Y_train = class_array[np.array(train)] \n",
    "    \n",
    "        X_test = feature_array[np.array(test)]\n",
    "        Y_test = class_array[np.array(test)]\n",
    "    \n",
    "        clf.fit(X_train, Y_train)\n",
    "        predict = clf.predict(X_test)\n",
    "    \n",
    "        print \"Fold /\", idx + 1, \", Training Set /\", Y_train.shape, \" \", np.sum(Y_train), \", Test Set /\", Y_test.shape, \" \", np.sum(Y_test)\n",
    "        print metrics.confusion_matrix(Y_test, predict), metrics.accuracy_score(Y_test, predict), metrics.f1_score(Y_test, predict)\n",
    "        \n",
    "        average_accuracy[idx] = metrics.accuracy_score(Y_test, predict)\n",
    "        average_f1[idx] = metrics.f1_score(Y_test, predict)\n",
    "        \n",
    "        idx += 1\n",
    "    \n",
    "    \n",
    "    print \"Average Accuracy =\", np.mean(average_accuracy)\n",
    "    print \"Average F-1 =\", np.mean(average_f1)\n",
    "    target_short = target.split()[0]\n",
    "    joblib.dump(le, \"Part1_VectorSum_Clf/Part1_VectorSumLabelEncoder_Target_\" + target_short + \".pkl\")\n",
    "    joblib.dump(clf, \"Part1_VectorSum_Clf/Part1_VectorSum_Target_\" + target_short + \".pkl\")"
   ]
  },
  {
   "cell_type": "code",
   "execution_count": 16,
   "metadata": {
    "collapsed": false
   },
   "outputs": [
    {
     "data": {
      "text/plain": [
       "<function sklearn.externals.joblib.numpy_pickle.dump>"
      ]
     },
     "execution_count": 16,
     "metadata": {},
     "output_type": "execute_result"
    }
   ],
   "source": [
    "from sklearn.externals import joblib\n",
    "joblib.dump"
   ]
  },
  {
   "cell_type": "code",
   "execution_count": null,
   "metadata": {
    "collapsed": true
   },
   "outputs": [],
   "source": []
  }
 ],
 "metadata": {
  "kernelspec": {
   "display_name": "Python 2",
   "language": "python",
   "name": "python2"
  },
  "language_info": {
   "codemirror_mode": {
    "name": "ipython",
    "version": 2
   },
   "file_extension": ".py",
   "mimetype": "text/x-python",
   "name": "python",
   "nbconvert_exporter": "python",
   "pygments_lexer": "ipython2",
   "version": "2.7.11"
  }
 },
 "nbformat": 4,
 "nbformat_minor": 0
}
